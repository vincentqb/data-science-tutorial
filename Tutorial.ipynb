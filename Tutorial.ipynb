{
 "cells": [
  {
   "cell_type": "markdown",
   "metadata": {},
   "source": [
    "# Python Introduction\n",
    "\n",
    "Let's start with a classic: writing \"Hello World!\" in many ways."
   ]
  },
  {
   "cell_type": "code",
   "execution_count": 1,
   "metadata": {},
   "outputs": [],
   "source": [
    "s = \"Hello World!\"\n",
    "s = \"hello world!\".title()\n",
    "\n",
    "# We've reused the variable name \"s\". Python created a new string, and pointed \"s\" to the memory location of the new string. We can see that \"s\" points to a new string by running\n",
    "# id(s)\n",
    "# before and after the assignment. The memory location of the previous string has been automatically freed (the process is called automatic garbage collection).\n",
    "\n",
    "s = 'Hello' + ' ' + \"World!\"\n",
    "s = \"Hello {}!\".format(\"World\")\n",
    "\n",
    "l = [\"Hello\", \"World!\"]\n",
    "s = \" \".join(l)\n",
    "\n",
    "l = (\"Hello\", \"World!\")\n",
    "s = \" \".join(l)\n",
    "\n",
    "print(s)"
   ]
  },
  {
   "cell_type": "markdown",
   "metadata": {},
   "source": [
    "The quotes are a special python synthax to create a string object. Notice that sometimes we have a dot and a word following the string: these are \"subfunctions\" (called methods) available to strings. Introspection allows us to see the methods of an object available at runtime."
   ]
  },
  {
   "cell_type": "code",
   "execution_count": 2,
   "metadata": {
    "scrolled": true
   },
   "outputs": [
    {
     "data": {
      "text/plain": [
       "['__add__',\n",
       " '__class__',\n",
       " '__contains__',\n",
       " '__delattr__',\n",
       " '__dir__',\n",
       " '__doc__',\n",
       " '__eq__',\n",
       " '__format__',\n",
       " '__ge__',\n",
       " '__getattribute__',\n",
       " '__getitem__',\n",
       " '__getnewargs__',\n",
       " '__gt__',\n",
       " '__hash__',\n",
       " '__init__',\n",
       " '__init_subclass__',\n",
       " '__iter__',\n",
       " '__le__',\n",
       " '__len__',\n",
       " '__lt__',\n",
       " '__mod__',\n",
       " '__mul__',\n",
       " '__ne__',\n",
       " '__new__',\n",
       " '__reduce__',\n",
       " '__reduce_ex__',\n",
       " '__repr__',\n",
       " '__rmod__',\n",
       " '__rmul__',\n",
       " '__setattr__',\n",
       " '__sizeof__',\n",
       " '__str__',\n",
       " '__subclasshook__',\n",
       " 'capitalize',\n",
       " 'casefold',\n",
       " 'center',\n",
       " 'count',\n",
       " 'encode',\n",
       " 'endswith',\n",
       " 'expandtabs',\n",
       " 'find',\n",
       " 'format',\n",
       " 'format_map',\n",
       " 'index',\n",
       " 'isalnum',\n",
       " 'isalpha',\n",
       " 'isdecimal',\n",
       " 'isdigit',\n",
       " 'isidentifier',\n",
       " 'islower',\n",
       " 'isnumeric',\n",
       " 'isprintable',\n",
       " 'isspace',\n",
       " 'istitle',\n",
       " 'isupper',\n",
       " 'join',\n",
       " 'ljust',\n",
       " 'lower',\n",
       " 'lstrip',\n",
       " 'maketrans',\n",
       " 'partition',\n",
       " 'replace',\n",
       " 'rfind',\n",
       " 'rindex',\n",
       " 'rjust',\n",
       " 'rpartition',\n",
       " 'rsplit',\n",
       " 'rstrip',\n",
       " 'split',\n",
       " 'splitlines',\n",
       " 'startswith',\n",
       " 'strip',\n",
       " 'swapcase',\n",
       " 'title',\n",
       " 'translate',\n",
       " 'upper',\n",
       " 'zfill']"
      ]
     },
     "execution_count": 2,
     "metadata": {},
     "output_type": "execute_result"
    }
   ],
   "source": [
    "# List all methods\n",
    "dir(s)\n",
    "\n",
    "# The names starting with an underscore is a convention used in python to indicate that these methods are not meant to be invoked by the user directly.\n",
    "\n",
    "# Trick: We can create a new list without the entries starting with \"_\" using a technique called list comprehension:\n",
    "# [m for m in dir(s) if not m.startswith(\"_\")]"
   ]
  },
  {
   "cell_type": "markdown",
   "metadata": {},
   "source": [
    "In the introduction above, we've used [] and () notation. These two are special synthax used in python to create lists and tuples (respectively). The two are very similar, but are internally optimized for different operations. The lists (with []) can change length whereas the typles (()) cannot."
   ]
  },
  {
   "cell_type": "code",
   "execution_count": 3,
   "metadata": {},
   "outputs": [
    {
     "name": "stdout",
     "output_type": "stream",
     "text": [
      "Length of list: 2\n",
      "First entry: Hello\n",
      "Second entry: World!\n",
      "Last entry: World!\n"
     ]
    }
   ],
   "source": [
    "l = [\"Hello\", \"World!\"]\n",
    "\n",
    "print(\"Length of list: {}\".format(len(l)))\n",
    "print(\"First entry: {}\".format(l[0]))\n",
    "print(\"Second entry: {}\".format(l[1]))\n",
    "print(\"Last entry: {}\".format(l[-1]))"
   ]
  },
  {
   "cell_type": "code",
   "execution_count": 4,
   "metadata": {},
   "outputs": [],
   "source": [
    "# print(l[2])  # NOTE Out of bound error!"
   ]
  },
  {
   "cell_type": "markdown",
   "metadata": {},
   "source": [
    "Python also has an object indexed by other object: a dictionary."
   ]
  },
  {
   "cell_type": "code",
   "execution_count": 5,
   "metadata": {},
   "outputs": [
    {
     "name": "stdout",
     "output_type": "stream",
     "text": [
      "Hello\n",
      "World!\n",
      "Hello World!\n"
     ]
    }
   ],
   "source": [
    "d = {\"b\": \"World!\", \"a\": \"Hello\"}\n",
    "\n",
    "print(d[\"a\"])\n",
    "print(d[\"b\"])\n",
    "\n",
    "# Trick:\n",
    "s = \"{a} {b}\".format(a=d[\"a\"], b=d[\"b\"])\n",
    "s = \"{a} {b}\".format(**d)  # This a compact equivalent to the line above!\n",
    "print(s)\n",
    "# NOTE Double star notation unpacks dictionaries. Single star unpacks lists."
   ]
  },
  {
   "cell_type": "markdown",
   "metadata": {},
   "source": [
    "Python also uses the \"in\" keyword with lists:"
   ]
  },
  {
   "cell_type": "code",
   "execution_count": 6,
   "metadata": {},
   "outputs": [
    {
     "name": "stdout",
     "output_type": "stream",
     "text": [
      "Hello World!\n"
     ]
    }
   ],
   "source": [
    "if \"!\" in s:\n",
    "    print(s)\n",
    "else:\n",
    "    # The \"else\" here is not needed, and only added for demonstration.\n",
    "    pass"
   ]
  },
  {
   "cell_type": "code",
   "execution_count": 7,
   "metadata": {},
   "outputs": [
    {
     "name": "stdout",
     "output_type": "stream",
     "text": [
      "H\n",
      "e\n",
      "l\n",
      "l\n",
      "o\n",
      " \n",
      "W\n",
      "o\n",
      "r\n",
      "l\n",
      "d\n",
      "!\n"
     ]
    }
   ],
   "source": [
    "for c in s:\n",
    "    print(c)"
   ]
  },
  {
   "cell_type": "markdown",
   "metadata": {},
   "source": [
    "### Functions and Classes \n",
    "\n",
    "Snippets of code that appeared often can be embedded in a function."
   ]
  },
  {
   "cell_type": "code",
   "execution_count": 8,
   "metadata": {},
   "outputs": [],
   "source": [
    "def print_hello_world(display=False, return_string=False):\n",
    "    \"\"\"\n",
    "    Print \"Hello World!\" if display variable is set to True.\n",
    "    \n",
    "    Input: display (optional)\n",
    "    Output: None.\n",
    "    \"\"\"\n",
    "    \n",
    "    s = \"Hello World!\"\n",
    "    \n",
    "    # Indentation indicates where the function starts and ends!\n",
    "    \n",
    "    if display:\n",
    "        print(s)\n",
    "    \n",
    "    # We can pass the result of the function to the outside using \"return\"\n",
    "    if return_string:\n",
    "        return s\n",
    "\n",
    "    \n",
    "print_hello_world(display=False)\n",
    "\n",
    "# We capture the output outside the function using\n",
    "# o = print_hello_world(return_string=False)  # o is None\n",
    "# o = print_hello_world(return_string=True)  # o is \"Hello World!\""
   ]
  },
  {
   "cell_type": "markdown",
   "metadata": {},
   "source": [
    "Earlier, we saw that strings have special \"subfunctions\" called methods. We can also create other types of objects."
   ]
  },
  {
   "cell_type": "code",
   "execution_count": 9,
   "metadata": {},
   "outputs": [
    {
     "name": "stdout",
     "output_type": "stream",
     "text": [
      "Hello World!\n"
     ]
    }
   ],
   "source": [
    "class HelloWorldPrinter():\n",
    "    \n",
    "    def __init__(self):\n",
    "        \"\"\"\n",
    "        (1) The \"__init__\" function is a special method that is run when a new instance of the class is created.\n",
    "        (2) Methods receive the \"self\" variable as first argument: \"self\" refers to the particular instance.\n",
    "        \"\"\"\n",
    "        self.s = \"Hello World!\"\n",
    "        self.display = False\n",
    "    \n",
    "    def do(self):\n",
    "        if self.display:\n",
    "            print(self.s)\n",
    "\n",
    "            \n",
    "printer1 = HelloWorldPrinter()\n",
    "printer1.display = True\n",
    "printer1.do()\n",
    "# Prints \"Hello World!\"\n",
    "\n",
    "\n",
    "printer2 = HelloWorldPrinter()\n",
    "printer2.do()\n",
    "# Does not print \"Hello World!\""
   ]
  },
  {
   "cell_type": "markdown",
   "metadata": {},
   "source": [
    "We created two \"particular\" instances (printer1, printer2) of the \"general\" class (HelloWorldPrinter).\n",
    "\n",
    "Furhter reading: [style guide](https://www.python.org/dev/peps/pep-0008/) and [style guide enforcer](http://flake8.pycqa.org/en/latest/)."
   ]
  },
  {
   "cell_type": "markdown",
   "metadata": {},
   "source": [
    "# Data Manipulation\n",
    "\n",
    "The standard data science libraries in python includes pandas to manage \"data frames\", and sklearn to do machine learning. The standard advanced math library is numpy, but we won't need it here. All of these packages work in-memory, you can check out [dask](https://dask.pydata.org/en/latest/) to mitigate this."
   ]
  },
  {
   "cell_type": "code",
   "execution_count": 10,
   "metadata": {},
   "outputs": [],
   "source": [
    "# import pandas as pd\n",
    "# import numpy as np"
   ]
  },
  {
   "cell_type": "markdown",
   "metadata": {},
   "source": [
    "Let's import an example dataset."
   ]
  },
  {
   "cell_type": "code",
   "execution_count": 11,
   "metadata": {},
   "outputs": [],
   "source": [
    "import seaborn as sns\n",
    "\n",
    "# Seaborn is a statistical data visualization library. We only use it here to obtain a sample dataset in pandas format.\n",
    "# See others here: https://github.com/mwaskom/seaborn-data or sns.get_dataset_names()\n",
    "\n",
    "# Pandas is implicitly loaded by Seaborn when loading the dataset\n",
    "df = sns.load_dataset(\"fmri\")"
   ]
  },
  {
   "cell_type": "code",
   "execution_count": 12,
   "metadata": {},
   "outputs": [
    {
     "data": {
      "text/html": [
       "<div>\n",
       "<style scoped>\n",
       "    .dataframe tbody tr th:only-of-type {\n",
       "        vertical-align: middle;\n",
       "    }\n",
       "\n",
       "    .dataframe tbody tr th {\n",
       "        vertical-align: top;\n",
       "    }\n",
       "\n",
       "    .dataframe thead th {\n",
       "        text-align: right;\n",
       "    }\n",
       "</style>\n",
       "<table border=\"1\" class=\"dataframe\">\n",
       "  <thead>\n",
       "    <tr style=\"text-align: right;\">\n",
       "      <th></th>\n",
       "      <th>subject</th>\n",
       "      <th>timepoint</th>\n",
       "      <th>event</th>\n",
       "      <th>region</th>\n",
       "      <th>signal</th>\n",
       "    </tr>\n",
       "  </thead>\n",
       "  <tbody>\n",
       "    <tr>\n",
       "      <th>0</th>\n",
       "      <td>s13</td>\n",
       "      <td>18</td>\n",
       "      <td>stim</td>\n",
       "      <td>parietal</td>\n",
       "      <td>-0.017552</td>\n",
       "    </tr>\n",
       "    <tr>\n",
       "      <th>1</th>\n",
       "      <td>s5</td>\n",
       "      <td>14</td>\n",
       "      <td>stim</td>\n",
       "      <td>parietal</td>\n",
       "      <td>-0.080883</td>\n",
       "    </tr>\n",
       "    <tr>\n",
       "      <th>2</th>\n",
       "      <td>s12</td>\n",
       "      <td>18</td>\n",
       "      <td>stim</td>\n",
       "      <td>parietal</td>\n",
       "      <td>-0.081033</td>\n",
       "    </tr>\n",
       "    <tr>\n",
       "      <th>3</th>\n",
       "      <td>s11</td>\n",
       "      <td>18</td>\n",
       "      <td>stim</td>\n",
       "      <td>parietal</td>\n",
       "      <td>-0.046134</td>\n",
       "    </tr>\n",
       "    <tr>\n",
       "      <th>4</th>\n",
       "      <td>s10</td>\n",
       "      <td>18</td>\n",
       "      <td>stim</td>\n",
       "      <td>parietal</td>\n",
       "      <td>-0.037970</td>\n",
       "    </tr>\n",
       "  </tbody>\n",
       "</table>\n",
       "</div>"
      ],
      "text/plain": [
       "  subject  timepoint event    region    signal\n",
       "0     s13         18  stim  parietal -0.017552\n",
       "1      s5         14  stim  parietal -0.080883\n",
       "2     s12         18  stim  parietal -0.081033\n",
       "3     s11         18  stim  parietal -0.046134\n",
       "4     s10         18  stim  parietal -0.037970"
      ]
     },
     "execution_count": 12,
     "metadata": {},
     "output_type": "execute_result"
    }
   ],
   "source": [
    "df.head()"
   ]
  },
  {
   "cell_type": "markdown",
   "metadata": {},
   "source": [
    "Let's see some basic information about the data frame"
   ]
  },
  {
   "cell_type": "code",
   "execution_count": 13,
   "metadata": {},
   "outputs": [
    {
     "data": {
      "text/plain": [
       "subject       object\n",
       "timepoint      int64\n",
       "event         object\n",
       "region        object\n",
       "signal       float64\n",
       "dtype: object"
      ]
     },
     "execution_count": 13,
     "metadata": {},
     "output_type": "execute_result"
    }
   ],
   "source": [
    "df.dtypes"
   ]
  },
  {
   "cell_type": "code",
   "execution_count": 14,
   "metadata": {},
   "outputs": [
    {
     "data": {
      "text/plain": [
       "(1064, 5)"
      ]
     },
     "execution_count": 14,
     "metadata": {},
     "output_type": "execute_result"
    }
   ],
   "source": [
    "df.shape"
   ]
  },
  {
   "cell_type": "code",
   "execution_count": 15,
   "metadata": {},
   "outputs": [
    {
     "data": {
      "text/html": [
       "<div>\n",
       "<style scoped>\n",
       "    .dataframe tbody tr th:only-of-type {\n",
       "        vertical-align: middle;\n",
       "    }\n",
       "\n",
       "    .dataframe tbody tr th {\n",
       "        vertical-align: top;\n",
       "    }\n",
       "\n",
       "    .dataframe thead th {\n",
       "        text-align: right;\n",
       "    }\n",
       "</style>\n",
       "<table border=\"1\" class=\"dataframe\">\n",
       "  <thead>\n",
       "    <tr style=\"text-align: right;\">\n",
       "      <th></th>\n",
       "      <th>timepoint</th>\n",
       "      <th>signal</th>\n",
       "    </tr>\n",
       "  </thead>\n",
       "  <tbody>\n",
       "    <tr>\n",
       "      <th>count</th>\n",
       "      <td>1064.000000</td>\n",
       "      <td>1064.000000</td>\n",
       "    </tr>\n",
       "    <tr>\n",
       "      <th>mean</th>\n",
       "      <td>9.000000</td>\n",
       "      <td>0.003540</td>\n",
       "    </tr>\n",
       "    <tr>\n",
       "      <th>std</th>\n",
       "      <td>5.479801</td>\n",
       "      <td>0.093930</td>\n",
       "    </tr>\n",
       "    <tr>\n",
       "      <th>min</th>\n",
       "      <td>0.000000</td>\n",
       "      <td>-0.255486</td>\n",
       "    </tr>\n",
       "    <tr>\n",
       "      <th>25%</th>\n",
       "      <td>4.000000</td>\n",
       "      <td>-0.046070</td>\n",
       "    </tr>\n",
       "    <tr>\n",
       "      <th>50%</th>\n",
       "      <td>9.000000</td>\n",
       "      <td>-0.013653</td>\n",
       "    </tr>\n",
       "    <tr>\n",
       "      <th>75%</th>\n",
       "      <td>14.000000</td>\n",
       "      <td>0.024293</td>\n",
       "    </tr>\n",
       "    <tr>\n",
       "      <th>max</th>\n",
       "      <td>18.000000</td>\n",
       "      <td>0.564985</td>\n",
       "    </tr>\n",
       "  </tbody>\n",
       "</table>\n",
       "</div>"
      ],
      "text/plain": [
       "         timepoint       signal\n",
       "count  1064.000000  1064.000000\n",
       "mean      9.000000     0.003540\n",
       "std       5.479801     0.093930\n",
       "min       0.000000    -0.255486\n",
       "25%       4.000000    -0.046070\n",
       "50%       9.000000    -0.013653\n",
       "75%      14.000000     0.024293\n",
       "max      18.000000     0.564985"
      ]
     },
     "execution_count": 15,
     "metadata": {},
     "output_type": "execute_result"
    }
   ],
   "source": [
    "df.describe()"
   ]
  },
  {
   "cell_type": "code",
   "execution_count": 16,
   "metadata": {},
   "outputs": [
    {
     "data": {
      "text/plain": [
       "array(['parietal', 'frontal'], dtype=object)"
      ]
     },
     "execution_count": 16,
     "metadata": {},
     "output_type": "execute_result"
    }
   ],
   "source": [
    "df[\"region\"].unique()"
   ]
  },
  {
   "cell_type": "code",
   "execution_count": 17,
   "metadata": {},
   "outputs": [
    {
     "data": {
      "text/plain": [
       "array(['stim', 'cue'], dtype=object)"
      ]
     },
     "execution_count": 17,
     "metadata": {},
     "output_type": "execute_result"
    }
   ],
   "source": [
    "df[\"event\"].unique()"
   ]
  },
  {
   "cell_type": "code",
   "execution_count": 18,
   "metadata": {},
   "outputs": [
    {
     "data": {
      "text/plain": [
       "s7     76\n",
       "s8     76\n",
       "s11    76\n",
       "s6     76\n",
       "s2     76\n",
       "s5     76\n",
       "s10    76\n",
       "s12    76\n",
       "s1     76\n",
       "s0     76\n",
       "s9     76\n",
       "s4     76\n",
       "s3     76\n",
       "s13    76\n",
       "Name: subject, dtype: int64"
      ]
     },
     "execution_count": 18,
     "metadata": {},
     "output_type": "execute_result"
    }
   ],
   "source": [
    "df[\"subject\"].value_counts()\n",
    "# df.groupby(\"subject\").size()  # Similar, but using groupby"
   ]
  },
  {
   "cell_type": "markdown",
   "metadata": {},
   "source": [
    "We can create new columns. For example, we can convert the timepoint into seconds (using the fake conversion rate of 1 point is 10/99 seconds)."
   ]
  },
  {
   "cell_type": "code",
   "execution_count": 19,
   "metadata": {},
   "outputs": [
    {
     "data": {
      "text/html": [
       "<div>\n",
       "<style scoped>\n",
       "    .dataframe tbody tr th:only-of-type {\n",
       "        vertical-align: middle;\n",
       "    }\n",
       "\n",
       "    .dataframe tbody tr th {\n",
       "        vertical-align: top;\n",
       "    }\n",
       "\n",
       "    .dataframe thead th {\n",
       "        text-align: right;\n",
       "    }\n",
       "</style>\n",
       "<table border=\"1\" class=\"dataframe\">\n",
       "  <thead>\n",
       "    <tr style=\"text-align: right;\">\n",
       "      <th></th>\n",
       "      <th>subject</th>\n",
       "      <th>timepoint</th>\n",
       "      <th>event</th>\n",
       "      <th>region</th>\n",
       "      <th>signal</th>\n",
       "      <th>timestamp</th>\n",
       "    </tr>\n",
       "  </thead>\n",
       "  <tbody>\n",
       "    <tr>\n",
       "      <th>0</th>\n",
       "      <td>s13</td>\n",
       "      <td>18</td>\n",
       "      <td>stim</td>\n",
       "      <td>parietal</td>\n",
       "      <td>-0.017552</td>\n",
       "      <td>1.818182</td>\n",
       "    </tr>\n",
       "    <tr>\n",
       "      <th>1</th>\n",
       "      <td>s5</td>\n",
       "      <td>14</td>\n",
       "      <td>stim</td>\n",
       "      <td>parietal</td>\n",
       "      <td>-0.080883</td>\n",
       "      <td>1.414141</td>\n",
       "    </tr>\n",
       "    <tr>\n",
       "      <th>2</th>\n",
       "      <td>s12</td>\n",
       "      <td>18</td>\n",
       "      <td>stim</td>\n",
       "      <td>parietal</td>\n",
       "      <td>-0.081033</td>\n",
       "      <td>1.818182</td>\n",
       "    </tr>\n",
       "    <tr>\n",
       "      <th>3</th>\n",
       "      <td>s11</td>\n",
       "      <td>18</td>\n",
       "      <td>stim</td>\n",
       "      <td>parietal</td>\n",
       "      <td>-0.046134</td>\n",
       "      <td>1.818182</td>\n",
       "    </tr>\n",
       "    <tr>\n",
       "      <th>4</th>\n",
       "      <td>s10</td>\n",
       "      <td>18</td>\n",
       "      <td>stim</td>\n",
       "      <td>parietal</td>\n",
       "      <td>-0.037970</td>\n",
       "      <td>1.818182</td>\n",
       "    </tr>\n",
       "  </tbody>\n",
       "</table>\n",
       "</div>"
      ],
      "text/plain": [
       "  subject  timepoint event    region    signal  timestamp\n",
       "0     s13         18  stim  parietal -0.017552   1.818182\n",
       "1      s5         14  stim  parietal -0.080883   1.414141\n",
       "2     s12         18  stim  parietal -0.081033   1.818182\n",
       "3     s11         18  stim  parietal -0.046134   1.818182\n",
       "4     s10         18  stim  parietal -0.037970   1.818182"
      ]
     },
     "execution_count": 19,
     "metadata": {},
     "output_type": "execute_result"
    }
   ],
   "source": [
    "# Convert timepoint into seconds\n",
    "df[\"timestamp\"] = df[\"timepoint\"] * 10/99\n",
    "df.head()\n",
    "\n",
    "# We could also create a conversion column\n",
    "# df[\"conversion_factor\"] = 10/99\n",
    "# df[\"timestamp\"] = df[\"timepoint\"] * df[\"conversion_factor\"]"
   ]
  },
  {
   "cell_type": "markdown",
   "metadata": {},
   "source": [
    "### Merge\n",
    "\n",
    "We can compute the median per region."
   ]
  },
  {
   "cell_type": "code",
   "execution_count": 20,
   "metadata": {
    "scrolled": true
   },
   "outputs": [
    {
     "name": "stdout",
     "output_type": "stream",
     "text": [
      "-0.00803176027486\n",
      "-0.0199591781716\n"
     ]
    }
   ],
   "source": [
    "print(df.loc[ df[\"region\"] == \"frontal\", \"signal\"].median())\n",
    "print(df.loc[ df[\"region\"] == \"parietal\", \"signal\"].median())"
   ]
  },
  {
   "cell_type": "markdown",
   "metadata": {},
   "source": [
    "...or the median per region and event."
   ]
  },
  {
   "cell_type": "code",
   "execution_count": 21,
   "metadata": {},
   "outputs": [
    {
     "data": {
      "text/plain": [
       "region    event\n",
       "frontal   cue     -0.004164\n",
       "          stim    -0.015889\n",
       "parietal  cue     -0.015087\n",
       "          stim    -0.035014\n",
       "Name: signal, dtype: float64"
      ]
     },
     "execution_count": 21,
     "metadata": {},
     "output_type": "execute_result"
    }
   ],
   "source": [
    "region_median = df.groupby([\"region\", \"event\"])[\"signal\"].median()  # Could also use mean, count, etc...\n",
    "region_median"
   ]
  },
  {
   "cell_type": "markdown",
   "metadata": {},
   "source": [
    "And we can merge back this information into the original data frame."
   ]
  },
  {
   "cell_type": "code",
   "execution_count": 22,
   "metadata": {},
   "outputs": [
    {
     "data": {
      "text/html": [
       "<div>\n",
       "<style scoped>\n",
       "    .dataframe tbody tr th:only-of-type {\n",
       "        vertical-align: middle;\n",
       "    }\n",
       "\n",
       "    .dataframe tbody tr th {\n",
       "        vertical-align: top;\n",
       "    }\n",
       "\n",
       "    .dataframe thead th {\n",
       "        text-align: right;\n",
       "    }\n",
       "</style>\n",
       "<table border=\"1\" class=\"dataframe\">\n",
       "  <thead>\n",
       "    <tr style=\"text-align: right;\">\n",
       "      <th></th>\n",
       "      <th>region</th>\n",
       "      <th>event</th>\n",
       "      <th>signal_region_event_median</th>\n",
       "    </tr>\n",
       "  </thead>\n",
       "  <tbody>\n",
       "    <tr>\n",
       "      <th>0</th>\n",
       "      <td>frontal</td>\n",
       "      <td>cue</td>\n",
       "      <td>-0.004164</td>\n",
       "    </tr>\n",
       "    <tr>\n",
       "      <th>1</th>\n",
       "      <td>frontal</td>\n",
       "      <td>stim</td>\n",
       "      <td>-0.015889</td>\n",
       "    </tr>\n",
       "    <tr>\n",
       "      <th>2</th>\n",
       "      <td>parietal</td>\n",
       "      <td>cue</td>\n",
       "      <td>-0.015087</td>\n",
       "    </tr>\n",
       "    <tr>\n",
       "      <th>3</th>\n",
       "      <td>parietal</td>\n",
       "      <td>stim</td>\n",
       "      <td>-0.035014</td>\n",
       "    </tr>\n",
       "  </tbody>\n",
       "</table>\n",
       "</div>"
      ],
      "text/plain": [
       "     region event  signal_region_event_median\n",
       "0   frontal   cue                   -0.004164\n",
       "1   frontal  stim                   -0.015889\n",
       "2  parietal   cue                   -0.015087\n",
       "3  parietal  stim                   -0.035014"
      ]
     },
     "execution_count": 22,
     "metadata": {},
     "output_type": "execute_result"
    }
   ],
   "source": [
    "# Convert into a data frame to merge back\n",
    "region_median = region_median.reset_index().rename({\"signal\": \"signal_region_event_median\"}, axis=\"columns\")\n",
    "region_median"
   ]
  },
  {
   "cell_type": "code",
   "execution_count": 23,
   "metadata": {
    "scrolled": true
   },
   "outputs": [
    {
     "data": {
      "text/html": [
       "<div>\n",
       "<style scoped>\n",
       "    .dataframe tbody tr th:only-of-type {\n",
       "        vertical-align: middle;\n",
       "    }\n",
       "\n",
       "    .dataframe tbody tr th {\n",
       "        vertical-align: top;\n",
       "    }\n",
       "\n",
       "    .dataframe thead th {\n",
       "        text-align: right;\n",
       "    }\n",
       "</style>\n",
       "<table border=\"1\" class=\"dataframe\">\n",
       "  <thead>\n",
       "    <tr style=\"text-align: right;\">\n",
       "      <th></th>\n",
       "      <th>subject</th>\n",
       "      <th>timepoint</th>\n",
       "      <th>event</th>\n",
       "      <th>region</th>\n",
       "      <th>signal</th>\n",
       "      <th>timestamp</th>\n",
       "      <th>signal_region_event_median</th>\n",
       "    </tr>\n",
       "  </thead>\n",
       "  <tbody>\n",
       "    <tr>\n",
       "      <th>0</th>\n",
       "      <td>s13</td>\n",
       "      <td>18</td>\n",
       "      <td>stim</td>\n",
       "      <td>parietal</td>\n",
       "      <td>-0.017552</td>\n",
       "      <td>1.818182</td>\n",
       "      <td>-0.035014</td>\n",
       "    </tr>\n",
       "    <tr>\n",
       "      <th>1</th>\n",
       "      <td>s5</td>\n",
       "      <td>14</td>\n",
       "      <td>stim</td>\n",
       "      <td>parietal</td>\n",
       "      <td>-0.080883</td>\n",
       "      <td>1.414141</td>\n",
       "      <td>-0.035014</td>\n",
       "    </tr>\n",
       "    <tr>\n",
       "      <th>2</th>\n",
       "      <td>s12</td>\n",
       "      <td>18</td>\n",
       "      <td>stim</td>\n",
       "      <td>parietal</td>\n",
       "      <td>-0.081033</td>\n",
       "      <td>1.818182</td>\n",
       "      <td>-0.035014</td>\n",
       "    </tr>\n",
       "    <tr>\n",
       "      <th>3</th>\n",
       "      <td>s11</td>\n",
       "      <td>18</td>\n",
       "      <td>stim</td>\n",
       "      <td>parietal</td>\n",
       "      <td>-0.046134</td>\n",
       "      <td>1.818182</td>\n",
       "      <td>-0.035014</td>\n",
       "    </tr>\n",
       "    <tr>\n",
       "      <th>4</th>\n",
       "      <td>s10</td>\n",
       "      <td>18</td>\n",
       "      <td>stim</td>\n",
       "      <td>parietal</td>\n",
       "      <td>-0.037970</td>\n",
       "      <td>1.818182</td>\n",
       "      <td>-0.035014</td>\n",
       "    </tr>\n",
       "  </tbody>\n",
       "</table>\n",
       "</div>"
      ],
      "text/plain": [
       "  subject  timepoint event    region    signal  timestamp  \\\n",
       "0     s13         18  stim  parietal -0.017552   1.818182   \n",
       "1      s5         14  stim  parietal -0.080883   1.414141   \n",
       "2     s12         18  stim  parietal -0.081033   1.818182   \n",
       "3     s11         18  stim  parietal -0.046134   1.818182   \n",
       "4     s10         18  stim  parietal -0.037970   1.818182   \n",
       "\n",
       "   signal_region_event_median  \n",
       "0                   -0.035014  \n",
       "1                   -0.035014  \n",
       "2                   -0.035014  \n",
       "3                   -0.035014  \n",
       "4                   -0.035014  "
      ]
     },
     "execution_count": 23,
     "metadata": {},
     "output_type": "execute_result"
    }
   ],
   "source": [
    "df = df.merge(region_median, on=[\"region\", \"event\"])\n",
    "df.head()"
   ]
  },
  {
   "cell_type": "markdown",
   "metadata": {},
   "source": [
    "Further reading: [merge](https://pandas.pydata.org/pandas-docs/stable/generated/pandas.DataFrame.merge.html)/[join](https://pandas.pydata.org/pandas-docs/stable/generated/pandas.DataFrame.join.html)."
   ]
  },
  {
   "cell_type": "markdown",
   "metadata": {},
   "source": [
    "### Visualization \n",
    "\n",
    "We can also visualize the time series. Pandas uses a standard library called matplotlib under the hood for plotting."
   ]
  },
  {
   "cell_type": "code",
   "execution_count": 24,
   "metadata": {
    "scrolled": true
   },
   "outputs": [
    {
     "data": {
      "image/png": "[encoded data removed]",
      "text/plain": [
       "<matplotlib.figure.Figure at 0x7f22bbd780f0>"
      ]
     },
     "metadata": {},
     "output_type": "display_data"
    }
   ],
   "source": [
    "p = df.plot.scatter(\"timestamp\", \"signal\")\n",
    "\n",
    "# NOTE the \"p = ...\" is a way of accessing the matplotlib handle in case we want to modify the plot"
   ]
  },
  {
   "cell_type": "markdown",
   "metadata": {},
   "source": [
    "Density plots like hexbin are more appropriate to visualize finer variations in dentisty than scatter plots."
   ]
  },
  {
   "cell_type": "code",
   "execution_count": 25,
   "metadata": {
    "scrolled": true
   },
   "outputs": [
    {
     "data": {
      "image/png": "[encoded data removed]",
      "text/plain": [
       "<matplotlib.figure.Figure at 0x7f22bacb99e8>"
      ]
     },
     "metadata": {},
     "output_type": "display_data"
    }
   ],
   "source": [
    "# NOTE Workaround for disappearing x-axis https://github.com/pandas-dev/pandas/issues/10678\n",
    "p = df.plot.hexbin(\"timestamp\", \"signal\", sharex=False)"
   ]
  },
  {
   "cell_type": "markdown",
   "metadata": {},
   "source": [
    "We can look at a specific event/region for each subject."
   ]
  },
  {
   "cell_type": "code",
   "execution_count": 26,
   "metadata": {
    "scrolled": false
   },
   "outputs": [
    {
     "data": {
      "image/png": "[encoded data removed]",
      "text/plain": [
       "<matplotlib.figure.Figure at 0x7f22bac922e8>"
      ]
     },
     "metadata": {},
     "output_type": "display_data"
    }
   ],
   "source": [
    "# Select stim event in frontal region\n",
    "ind = (df[\"event\"]==\"stim\") & (df[\"region\"]==\"frontal\")\n",
    "\n",
    "# Show plot\n",
    "p = df[ind].set_index(\"timestamp\").groupby(\"subject\")[\"signal\"].plot()"
   ]
  },
  {
   "cell_type": "markdown",
   "metadata": {},
   "source": [
    "We can pivot to go from long to wide table format to observe how the different event/region change the signal (further reading: [pivot](https://pandas.pydata.org/pandas-docs/stable/generated/pandas.pivot.html)/[melt](https://pandas.pydata.org/pandas-docs/stable/generated/pandas.melt.html) and [pivot table](https://pandas.pydata.org/pandas-docs/stable/generated/pandas.DataFrame.pivot_table.html)). Pandas use pivot to refer to long-to-wide conversion, and melt for the wide-to-long conversion. Outside of pandas, pivot is sometimes used to refer to both conversions."
   ]
  },
  {
   "cell_type": "code",
   "execution_count": 27,
   "metadata": {},
   "outputs": [
    {
     "data": {
      "text/html": [
       "<div>\n",
       "<style scoped>\n",
       "    .dataframe tbody tr th:only-of-type {\n",
       "        vertical-align: middle;\n",
       "    }\n",
       "\n",
       "    .dataframe tbody tr th {\n",
       "        vertical-align: top;\n",
       "    }\n",
       "\n",
       "    .dataframe thead tr th {\n",
       "        text-align: left;\n",
       "    }\n",
       "\n",
       "    .dataframe thead tr:last-of-type th {\n",
       "        text-align: right;\n",
       "    }\n",
       "</style>\n",
       "<table border=\"1\" class=\"dataframe\">\n",
       "  <thead>\n",
       "    <tr>\n",
       "      <th>event</th>\n",
       "      <th colspan=\"2\" halign=\"left\">cue</th>\n",
       "      <th colspan=\"2\" halign=\"left\">stim</th>\n",
       "    </tr>\n",
       "    <tr>\n",
       "      <th>region</th>\n",
       "      <th>frontal</th>\n",
       "      <th>parietal</th>\n",
       "      <th>frontal</th>\n",
       "      <th>parietal</th>\n",
       "    </tr>\n",
       "    <tr>\n",
       "      <th>timestamp</th>\n",
       "      <th></th>\n",
       "      <th></th>\n",
       "      <th></th>\n",
       "      <th></th>\n",
       "    </tr>\n",
       "  </thead>\n",
       "  <tbody>\n",
       "    <tr>\n",
       "      <th>0.00000</th>\n",
       "      <td>-0.013137</td>\n",
       "      <td>-0.023166</td>\n",
       "      <td>-0.005349</td>\n",
       "      <td>-0.024995</td>\n",
       "    </tr>\n",
       "    <tr>\n",
       "      <th>0.10101</th>\n",
       "      <td>-0.015612</td>\n",
       "      <td>-0.028297</td>\n",
       "      <td>-0.015638</td>\n",
       "      <td>-0.040460</td>\n",
       "    </tr>\n",
       "    <tr>\n",
       "      <th>0.20202</th>\n",
       "      <td>-0.006178</td>\n",
       "      <td>-0.015483</td>\n",
       "      <td>-0.009770</td>\n",
       "      <td>-0.020062</td>\n",
       "    </tr>\n",
       "    <tr>\n",
       "      <th>0.30303</th>\n",
       "      <td>0.018232</td>\n",
       "      <td>0.021937</td>\n",
       "      <td>0.036392</td>\n",
       "      <td>0.061224</td>\n",
       "    </tr>\n",
       "    <tr>\n",
       "      <th>0.40404</th>\n",
       "      <td>0.041279</td>\n",
       "      <td>0.061302</td>\n",
       "      <td>0.113066</td>\n",
       "      <td>0.177131</td>\n",
       "    </tr>\n",
       "  </tbody>\n",
       "</table>\n",
       "</div>"
      ],
      "text/plain": [
       "event           cue                stim          \n",
       "region      frontal  parietal   frontal  parietal\n",
       "timestamp                                        \n",
       "0.00000   -0.013137 -0.023166 -0.005349 -0.024995\n",
       "0.10101   -0.015612 -0.028297 -0.015638 -0.040460\n",
       "0.20202   -0.006178 -0.015483 -0.009770 -0.020062\n",
       "0.30303    0.018232  0.021937  0.036392  0.061224\n",
       "0.40404    0.041279  0.061302  0.113066  0.177131"
      ]
     },
     "execution_count": 27,
     "metadata": {},
     "output_type": "execute_result"
    }
   ],
   "source": [
    "# Pivot table implicitly takes the mean over the subjects\n",
    "pt = df.pivot_table(index=\"timestamp\", columns=[\"event\", \"region\"], values=\"signal\")\n",
    "pt.head()"
   ]
  },
  {
   "cell_type": "markdown",
   "metadata": {},
   "source": [
    "This allows us to show the mean signal for each event-region pair."
   ]
  },
  {
   "cell_type": "code",
   "execution_count": 28,
   "metadata": {},
   "outputs": [
    {
     "data": {
      "image/png": "[encoded data removed]",
      "text/plain": [
       "<matplotlib.figure.Figure at 0x7f22d46d4b38>"
      ]
     },
     "metadata": {},
     "output_type": "display_data"
    }
   ],
   "source": [
    "p = pt.plot()"
   ]
  },
  {
   "cell_type": "markdown",
   "metadata": {},
   "source": [
    "### Regression\n",
    "\n",
    "This is obviously not linear, but let's try anyway to do an [ordinary least square](http://scikit-learn.org/stable/modules/linear_model.html#ordinary-least-squares) using [sklearn](http://scikit-learn.org/stable/modules/generated/sklearn.linear_model.LinearRegression.html)."
   ]
  },
  {
   "cell_type": "code",
   "execution_count": 29,
   "metadata": {},
   "outputs": [
    {
     "name": "stdout",
     "output_type": "stream",
     "text": [
      "-0.0469948939112\n",
      "0.0462623993925\n",
      "0.0766927978969\n"
     ]
    }
   ],
   "source": [
    "from sklearn.linear_model import LinearRegression\n",
    "\n",
    "X = df[[\"timestamp\"]]\n",
    "Y = df[[\"signal\"]]\n",
    "\n",
    "# Alternatively:\n",
    "# X = df[\"timestamp\"].values.reshape(-1,1)\n",
    "# Y = df[\"signal\"].values.reshape(-1,1)\n",
    "\n",
    "lr = LinearRegression(fit_intercept=True).fit(X, Y)\n",
    "\n",
    "# Y_pred = lr.predict(X)\n",
    "\n",
    "print(lr.coef_[0][0])\n",
    "print(lr.intercept_[0])\n",
    "print(lr.score(X, Y))  # Coefficient of determination R^2"
   ]
  },
  {
   "cell_type": "markdown",
   "metadata": {},
   "source": [
    "The goodness of fit is very low, as expected."
   ]
  }
 ],
 "metadata": {
  "kernelspec": {
   "display_name": "Python 3",
   "language": "python",
   "name": "python3"
  },
  "language_info": {
   "codemirror_mode": {
    "name": "ipython",
    "version": 3
   },
   "file_extension": ".py",
   "mimetype": "text/x-python",
   "name": "python",
   "nbconvert_exporter": "python",
   "pygments_lexer": "ipython3",
   "version": "3.6.5"
  }
 },
 "nbformat": 4,
 "nbformat_minor": 2
}
