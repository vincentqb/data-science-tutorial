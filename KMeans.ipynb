{
 "cells": [
  {
   "cell_type": "code",
   "execution_count": 249,
   "metadata": {},
   "outputs": [
    {
     "data": {
      "text/html": [
       "<div>\n",
       "<style scoped>\n",
       "    .dataframe tbody tr th:only-of-type {\n",
       "        vertical-align: middle;\n",
       "    }\n",
       "\n",
       "    .dataframe tbody tr th {\n",
       "        vertical-align: top;\n",
       "    }\n",
       "\n",
       "    .dataframe thead th {\n",
       "        text-align: right;\n",
       "    }\n",
       "</style>\n",
       "<table border=\"1\" class=\"dataframe\">\n",
       "  <thead>\n",
       "    <tr style=\"text-align: right;\">\n",
       "      <th></th>\n",
       "      <th>sepal_length</th>\n",
       "      <th>sepal_width</th>\n",
       "      <th>petal_length</th>\n",
       "      <th>petal_width</th>\n",
       "      <th>species</th>\n",
       "    </tr>\n",
       "  </thead>\n",
       "  <tbody>\n",
       "    <tr>\n",
       "      <th>104</th>\n",
       "      <td>6.5</td>\n",
       "      <td>3.0</td>\n",
       "      <td>5.8</td>\n",
       "      <td>2.2</td>\n",
       "      <td>virginica</td>\n",
       "    </tr>\n",
       "    <tr>\n",
       "      <th>110</th>\n",
       "      <td>6.5</td>\n",
       "      <td>3.2</td>\n",
       "      <td>5.1</td>\n",
       "      <td>2.0</td>\n",
       "      <td>virginica</td>\n",
       "    </tr>\n",
       "    <tr>\n",
       "      <th>149</th>\n",
       "      <td>5.9</td>\n",
       "      <td>3.0</td>\n",
       "      <td>5.1</td>\n",
       "      <td>1.8</td>\n",
       "      <td>virginica</td>\n",
       "    </tr>\n",
       "    <tr>\n",
       "      <th>21</th>\n",
       "      <td>5.1</td>\n",
       "      <td>3.7</td>\n",
       "      <td>1.5</td>\n",
       "      <td>0.4</td>\n",
       "      <td>setosa</td>\n",
       "    </tr>\n",
       "    <tr>\n",
       "      <th>85</th>\n",
       "      <td>6.0</td>\n",
       "      <td>3.4</td>\n",
       "      <td>4.5</td>\n",
       "      <td>1.6</td>\n",
       "      <td>versicolor</td>\n",
       "    </tr>\n",
       "  </tbody>\n",
       "</table>\n",
       "</div>"
      ],
      "text/plain": [
       "     sepal_length  sepal_width  petal_length  petal_width     species\n",
       "104           6.5          3.0           5.8          2.2   virginica\n",
       "110           6.5          3.2           5.1          2.0   virginica\n",
       "149           5.9          3.0           5.1          1.8   virginica\n",
       "21            5.1          3.7           1.5          0.4      setosa\n",
       "85            6.0          3.4           4.5          1.6  versicolor"
      ]
     },
     "execution_count": 249,
     "metadata": {},
     "output_type": "execute_result"
    }
   ],
   "source": [
    "import seaborn as sns\n",
    "df = sns.load_dataset(\"iris\")\n",
    "\n",
    "df.sample(5)"
   ]
  },
  {
   "cell_type": "markdown",
   "metadata": {},
   "source": [
    "We'll focus on two attributes, since we can easily visualize."
   ]
  },
  {
   "cell_type": "code",
   "execution_count": 250,
   "metadata": {},
   "outputs": [
    {
     "data": {
      "image/png": "[encoded data removed]",
      "text/plain": [
       "<matplotlib.figure.Figure at 0x7f9ee4746780>"
      ]
     },
     "metadata": {},
     "output_type": "display_data"
    }
   ],
   "source": [
    "cols = [\"sepal_width\", \"sepal_length\"]\n",
    "\n",
    "p = df.plot.scatter(*cols)"
   ]
  },
  {
   "cell_type": "markdown",
   "metadata": {},
   "source": [
    "Let's use the number of species as the number of clusters for KMeans."
   ]
  },
  {
   "cell_type": "code",
   "execution_count": 251,
   "metadata": {},
   "outputs": [],
   "source": [
    "k = df.species.nunique()"
   ]
  },
  {
   "cell_type": "markdown",
   "metadata": {},
   "source": [
    "# Implement KMeans from scratch\n",
    "\n",
    "The algorithm is as follows. First, take k random data points as initial centroids. Then, until position of the centroids converge or a maximum number of iterations is reached:\n",
    "-  For each data point, compute distance with each centroid, and assign closest.\n",
    "-  For each custer, compute mean of data points."
   ]
  },
  {
   "cell_type": "code",
   "execution_count": 252,
   "metadata": {},
   "outputs": [],
   "source": [
    "import numpy as np\n",
    "import pandas as pd\n",
    "\n",
    "class KMeans():\n",
    "    \n",
    "    def __init__(self, k):\n",
    "        self.k = k\n",
    "        self.epsilon = 10**(-3)\n",
    "        self.itermax = 100\n",
    "    \n",
    "    def distance(self, a, b):\n",
    "        \"\"\"\n",
    "        Compute distance between a data point, and all centroids.\n",
    "        Return as a pandas series.\n",
    "        \"\"\"\n",
    "        dist = np.linalg.norm(a.values-b.values, axis=1)\n",
    "        dist = pd.Series(dist, index=b.index)\n",
    "        return dist\n",
    "    \n",
    "    def sample(self, data):\n",
    "        return data.sample(self.k)\n",
    "\n",
    "    def find_clusters(self, data, centroids):\n",
    "        \"\"\"\n",
    "        For each data point,\n",
    "            Compute distance with each centroid,\n",
    "            Assign closest centroid.\n",
    "        \"\"\"\n",
    "        return pd.DataFrame([\n",
    "                self.distance(data.loc[[i],:], centroids).idxmin()\n",
    "                for i in range(len(data))\n",
    "            ], index=data.index)\n",
    "    \n",
    "    @staticmethod\n",
    "    def update_centroids(data, group=\"clusters\"):\n",
    "        \"\"\"\n",
    "        Group data points by clusters, and sort by cluster number.\n",
    "        \"\"\"\n",
    "        cols = [c for c in data.columns if c != group]\n",
    "        return data.groupby(group).mean().reset_index(col_level=-1)\\\n",
    "            .sort_values(group).reset_index(drop=True)[cols]\n",
    "    \n",
    "    def fit(self, data):\n",
    "        \n",
    "        self.data = data\n",
    "        cols = data.columns\n",
    "        \n",
    "        # Pick random centroids\n",
    "        c_old = self.sample(data).reset_index(drop=True)\n",
    "\n",
    "        i = 0\n",
    "        while True:\n",
    "            \n",
    "            # Find clusters for each data point\n",
    "            data[\"clusters\"] = self.find_clusters(data[cols], c_old)\n",
    "            \n",
    "            # Update centroids\n",
    "            c_new = self.update_centroids(data)\n",
    "            \n",
    "            # Verify convergence of centroids\n",
    "            i += 1\n",
    "            if self.distance(c_new, c_old).max() < self.epsilon or i >= self.itermax:\n",
    "                break\n",
    "                \n",
    "            c_old = c_new\n",
    "        \n",
    "        self.n_iter = i\n",
    "        self.centroids = c_new\n",
    "        \n",
    "        return self\n",
    "    \n",
    "    def predict(self, data):\n",
    "        return self.find_clusters(data, self.centroids)"
   ]
  },
  {
   "cell_type": "code",
   "execution_count": 253,
   "metadata": {
    "scrolled": false
   },
   "outputs": [
    {
     "name": "stderr",
     "output_type": "stream",
     "text": [
      "/usr/lib/python3/dist-packages/ipykernel_launcher.py:54: SettingWithCopyWarning: \n",
      "A value is trying to be set on a copy of a slice from a DataFrame.\n",
      "Try using .loc[row_indexer,col_indexer] = value instead\n",
      "\n",
      "See the caveats in the documentation: http://pandas.pydata.org/pandas-docs/stable/indexing.html#indexing-view-versus-copy\n"
     ]
    },
    {
     "data": {
      "text/plain": [
       "15"
      ]
     },
     "execution_count": 253,
     "metadata": {},
     "output_type": "execute_result"
    },
    {
     "data": {
      "image/png": "[encoded data removed]",
      "text/plain": [
       "<matplotlib.figure.Figure at 0x7f9f2866e7b8>"
      ]
     },
     "metadata": {},
     "output_type": "display_data"
    }
   ],
   "source": [
    "import pylab as plt\n",
    "\n",
    "cols = [\"sepal_width\", \"sepal_length\"]\n",
    "\n",
    "data = df[cols]\n",
    "kmeans = KMeans(k).fit(data)\n",
    "\n",
    "fig, ax = plt.subplots()\n",
    "\n",
    "p1 = data.plot.scatter(*cols, c=\"clusters\", s=10, colormap='viridis', ax=ax, colorbar=False)\n",
    "p2 = kmeans.centroids.plot.scatter(*cols, s=100, c=\"Gray\", ax=ax, colorbar=False)\n",
    "\n",
    "kmeans.n_iter"
   ]
  },
  {
   "cell_type": "markdown",
   "metadata": {},
   "source": [
    "# Compare with KMeans from sklearn"
   ]
  },
  {
   "cell_type": "code",
   "execution_count": 254,
   "metadata": {},
   "outputs": [
    {
     "name": "stderr",
     "output_type": "stream",
     "text": [
      "/usr/lib/python3/dist-packages/ipykernel_launcher.py:5: SettingWithCopyWarning: \n",
      "A value is trying to be set on a copy of a slice from a DataFrame.\n",
      "Try using .loc[row_indexer,col_indexer] = value instead\n",
      "\n",
      "See the caveats in the documentation: http://pandas.pydata.org/pandas-docs/stable/indexing.html#indexing-view-versus-copy\n",
      "  \"\"\"\n"
     ]
    },
    {
     "data": {
      "image/png": "[encoded data removed]",
      "text/plain": [
       "<matplotlib.figure.Figure at 0x7f9ee4cba240>"
      ]
     },
     "metadata": {},
     "output_type": "display_data"
    }
   ],
   "source": [
    "from sklearn.cluster import KMeans\n",
    "\n",
    "kmeans = KMeans(n_clusters=k)\n",
    "kmeans.fit(data[cols])\n",
    "data[\"clusters\"] = kmeans.predict(df[cols])\n",
    "centroids = pd.DataFrame(kmeans.cluster_centers_, columns=cols)\n",
    "\n",
    "fig, ax = plt.subplots()\n",
    "\n",
    "p1 = data.plot.scatter(*cols, c=\"clusters\", s=10, colormap='viridis', ax=ax, colorbar=False)\n",
    "p2 = centroids.plot.scatter(*cols, s=100, c=\"Gray\", ax=ax, colorbar=False)"
   ]
  }
 ],
 "metadata": {
  "kernelspec": {
   "display_name": "Python 3",
   "language": "python",
   "name": "python3"
  },
  "language_info": {
   "codemirror_mode": {
    "name": "ipython",
    "version": 3
   },
   "file_extension": ".py",
   "mimetype": "text/x-python",
   "name": "python",
   "nbconvert_exporter": "python",
   "pygments_lexer": "ipython3",
   "version": "3.6.5"
  }
 },
 "nbformat": 4,
 "nbformat_minor": 2
}
