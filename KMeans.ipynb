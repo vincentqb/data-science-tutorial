{
 "cells": [
  {
   "cell_type": "code",
   "execution_count": 1,
   "metadata": {},
   "outputs": [],
   "source": [
    "import numpy as np\n",
    "import pandas as pd\n",
    "import seaborn as sns\n",
    "import pylab as plt\n",
    "\n",
    "from sklearn.cluster import KMeans\n",
    "from sklearn.datasets import make_blobs"
   ]
  },
  {
   "cell_type": "code",
   "execution_count": 2,
   "metadata": {},
   "outputs": [
    {
     "data": {
      "text/html": [
       "<div>\n",
       "<style scoped>\n",
       "    .dataframe tbody tr th:only-of-type {\n",
       "        vertical-align: middle;\n",
       "    }\n",
       "\n",
       "    .dataframe tbody tr th {\n",
       "        vertical-align: top;\n",
       "    }\n",
       "\n",
       "    .dataframe thead th {\n",
       "        text-align: right;\n",
       "    }\n",
       "</style>\n",
       "<table border=\"1\" class=\"dataframe\">\n",
       "  <thead>\n",
       "    <tr style=\"text-align: right;\">\n",
       "      <th></th>\n",
       "      <th>sepal_length</th>\n",
       "      <th>sepal_width</th>\n",
       "      <th>petal_length</th>\n",
       "      <th>petal_width</th>\n",
       "      <th>species</th>\n",
       "    </tr>\n",
       "  </thead>\n",
       "  <tbody>\n",
       "    <tr>\n",
       "      <th>138</th>\n",
       "      <td>6.0</td>\n",
       "      <td>3.0</td>\n",
       "      <td>4.8</td>\n",
       "      <td>1.8</td>\n",
       "      <td>virginica</td>\n",
       "    </tr>\n",
       "    <tr>\n",
       "      <th>7</th>\n",
       "      <td>5.0</td>\n",
       "      <td>3.4</td>\n",
       "      <td>1.5</td>\n",
       "      <td>0.2</td>\n",
       "      <td>setosa</td>\n",
       "    </tr>\n",
       "    <tr>\n",
       "      <th>122</th>\n",
       "      <td>7.7</td>\n",
       "      <td>2.8</td>\n",
       "      <td>6.7</td>\n",
       "      <td>2.0</td>\n",
       "      <td>virginica</td>\n",
       "    </tr>\n",
       "    <tr>\n",
       "      <th>16</th>\n",
       "      <td>5.4</td>\n",
       "      <td>3.9</td>\n",
       "      <td>1.3</td>\n",
       "      <td>0.4</td>\n",
       "      <td>setosa</td>\n",
       "    </tr>\n",
       "    <tr>\n",
       "      <th>80</th>\n",
       "      <td>5.5</td>\n",
       "      <td>2.4</td>\n",
       "      <td>3.8</td>\n",
       "      <td>1.1</td>\n",
       "      <td>versicolor</td>\n",
       "    </tr>\n",
       "  </tbody>\n",
       "</table>\n",
       "</div>"
      ],
      "text/plain": [
       "     sepal_length  sepal_width  petal_length  petal_width     species\n",
       "138           6.0          3.0           4.8          1.8   virginica\n",
       "7             5.0          3.4           1.5          0.2      setosa\n",
       "122           7.7          2.8           6.7          2.0   virginica\n",
       "16            5.4          3.9           1.3          0.4      setosa\n",
       "80            5.5          2.4           3.8          1.1  versicolor"
      ]
     },
     "execution_count": 2,
     "metadata": {},
     "output_type": "execute_result"
    }
   ],
   "source": [
    "df = sns.load_dataset(\"iris\")\n",
    "\n",
    "df.sample(5)"
   ]
  },
  {
   "cell_type": "markdown",
   "metadata": {},
   "source": [
    "We'll focus on two attributes, since we can easily visualize."
   ]
  },
  {
   "cell_type": "code",
   "execution_count": 3,
   "metadata": {},
   "outputs": [
    {
     "data": {
      "image/png": "[encoded data removed]",
      "text/plain": [
       "<matplotlib.figure.Figure at 0x7f25c6aef6d8>"
      ]
     },
     "metadata": {},
     "output_type": "display_data"
    }
   ],
   "source": [
    "cols = [\"sepal_width\", \"sepal_length\"]\n",
    "\n",
    "p = df.plot.scatter(*cols)"
   ]
  },
  {
   "cell_type": "markdown",
   "metadata": {},
   "source": [
    "Let's use the number of species as the number of clusters for KMeans."
   ]
  },
  {
   "cell_type": "code",
   "execution_count": 4,
   "metadata": {},
   "outputs": [],
   "source": [
    "k = df.species.nunique()"
   ]
  },
  {
   "cell_type": "markdown",
   "metadata": {},
   "source": [
    "We could also experiment with random data"
   ]
  },
  {
   "cell_type": "code",
   "execution_count": 5,
   "metadata": {},
   "outputs": [],
   "source": [
    "# X, _ = make_blobs(n_samples=800, n_features=len(cols), centers=k)\n",
    "# df = pd.DataFrame(X, columns=cols)"
   ]
  },
  {
   "cell_type": "markdown",
   "metadata": {},
   "source": [
    "# Implement KMeans from scratch\n",
    "\n",
    "The algorithm is as follows. First, take k random data points as initial centroids. Then, until position of the centroids converge or a maximum number of iterations is reached:\n",
    "-  For each data point, compute distance with each centroid, and assign closest.\n",
    "-  For each custer, compute mean of data points."
   ]
  },
  {
   "cell_type": "code",
   "execution_count": 6,
   "metadata": {},
   "outputs": [],
   "source": [
    "class KMeansFromScratch():\n",
    "    \n",
    "    def __init__(self, k):\n",
    "        self.k = k\n",
    "        self.epsilon = 10**(-5)\n",
    "        self.itermax = 300\n",
    "        self.cluster_col = \"clusters\"\n",
    "    \n",
    "    def distance(self, a, b):\n",
    "        \"\"\"\n",
    "        Compute distance between a data point, and all centroids.\n",
    "        Return as a pandas series.\n",
    "        \"\"\"\n",
    "        dist = np.linalg.norm(a.values-b.values, axis=1)\n",
    "        dist = pd.Series(dist, index=b.index)\n",
    "        return dist\n",
    "    \n",
    "    def sample(self, data):\n",
    "        return data.sample(self.k)\n",
    "\n",
    "    def find_clusters(self, data, centroids):\n",
    "        \"\"\"\n",
    "        For each data point,\n",
    "            Compute distance with each centroid,\n",
    "            Assign closest centroid.\n",
    "        \"\"\"\n",
    "        return pd.DataFrame([\n",
    "                self.distance(data.loc[[i],:], centroids).idxmin()\n",
    "                for i in range(len(data))\n",
    "            ], index=data.index)\n",
    "    \n",
    "    def update_centroids(self, data):\n",
    "        \"\"\"\n",
    "        Group data points by clusters, and sort by cluster number.\n",
    "        \"\"\"\n",
    "        group = self.cluster_col\n",
    "        cols = [c for c in data.columns if c != group]\n",
    "        return data.groupby(group).mean().reset_index(col_level=-1)\\\n",
    "            .sort_values(group).reset_index(drop=True)[cols]\n",
    "    \n",
    "    def fit(self, data):\n",
    "        \n",
    "        self.data = data\n",
    "        cols = data.columns\n",
    "        \n",
    "        # Pick random centroids\n",
    "        c_old = self.sample(data).reset_index(drop=True)\n",
    "\n",
    "        i = 0\n",
    "        while True:\n",
    "            \n",
    "            # Find clusters for each data point\n",
    "            data[self.cluster_col] = self.find_clusters(data[cols], c_old)\n",
    "            \n",
    "            # Update centroids\n",
    "            c_new = self.update_centroids(data)\n",
    "            \n",
    "            # Verify convergence of centroids\n",
    "            i += 1\n",
    "            if self.distance(c_new, c_old).max() < self.epsilon or i >= self.itermax:\n",
    "                break\n",
    "                \n",
    "            c_old = c_new\n",
    "        \n",
    "        self.n_iter = i\n",
    "        self.centroids = c_new\n",
    "        self.inertia_ = self.compute_wcss(data, self.centroids)\n",
    "        \n",
    "        return self\n",
    "    \n",
    "    def predict(self, data):\n",
    "        return self.find_clusters(data, self.centroids)\n",
    "    \n",
    "    def compute_wcss(self, data, centroids=None):\n",
    "        \"\"\"\n",
    "        Compute within cluster sum of square.\n",
    "        \"\"\"\n",
    "        \n",
    "        cols = [c for c in data.columns if c != self.cluster_col]\n",
    "        \n",
    "        # Assign cluster to each data point\n",
    "        if centroids is None:\n",
    "            data[self.cluster_col] = self.predict(data[cols])\n",
    "        \n",
    "        # Make data frame of centroids\n",
    "        centroids = self.centroids\n",
    "        centroids[self.cluster_col] = centroids.index\n",
    "        \n",
    "        data[\"index\"] = data.index\n",
    "        centroids = data[[\"index\", self.cluster_col]].merge(centroids, on=self.cluster_col, sort=False)\n",
    "        centroids = centroids.set_index(\"index\")\n",
    "        \n",
    "        # Compute sum of square difference\n",
    "        return (data[cols] - centroids[cols]).pow(2).sum(axis=1).sum()"
   ]
  },
  {
   "cell_type": "code",
   "execution_count": 7,
   "metadata": {
    "scrolled": false
   },
   "outputs": [
    {
     "name": "stderr",
     "output_type": "stream",
     "text": [
      "/usr/lib/python3/dist-packages/ipykernel_launcher.py:52: SettingWithCopyWarning: \n",
      "A value is trying to be set on a copy of a slice from a DataFrame.\n",
      "Try using .loc[row_indexer,col_indexer] = value instead\n",
      "\n",
      "See the caveats in the documentation: http://pandas.pydata.org/pandas-docs/stable/indexing.html#indexing-view-versus-copy\n"
     ]
    },
    {
     "name": "stdout",
     "output_type": "stream",
     "text": [
      "15\n"
     ]
    },
    {
     "name": "stderr",
     "output_type": "stream",
     "text": [
      "/usr/lib/python3/dist-packages/ipykernel_launcher.py:88: SettingWithCopyWarning: \n",
      "A value is trying to be set on a copy of a slice from a DataFrame.\n",
      "Try using .loc[row_indexer,col_indexer] = value instead\n",
      "\n",
      "See the caveats in the documentation: http://pandas.pydata.org/pandas-docs/stable/indexing.html#indexing-view-versus-copy\n"
     ]
    },
    {
     "data": {
      "image/png": "[encoded data removed]",
      "text/plain": [
       "<matplotlib.figure.Figure at 0x7f260c1d6630>"
      ]
     },
     "metadata": {},
     "output_type": "display_data"
    }
   ],
   "source": [
    "data = df[cols]\n",
    "kmeans = KMeansFromScratch(k).fit(data)\n",
    "\n",
    "fig, ax = plt.subplots()\n",
    "\n",
    "p1 = data.plot.scatter(*cols, c=\"clusters\", s=10, colormap='viridis', ax=ax, colorbar=False)\n",
    "p2 = kmeans.centroids.plot.scatter(*cols, s=100, c=\"Gray\", ax=ax, colorbar=False)\n",
    "\n",
    "print(kmeans.n_iter)"
   ]
  },
  {
   "cell_type": "markdown",
   "metadata": {},
   "source": [
    "We can use the elbow method to try to determine the best number of cluster, in case we didn't have prior knowledge about it."
   ]
  },
  {
   "cell_type": "code",
   "execution_count": 8,
   "metadata": {},
   "outputs": [
    {
     "name": "stderr",
     "output_type": "stream",
     "text": [
      "/usr/lib/python3/dist-packages/ipykernel_launcher.py:52: SettingWithCopyWarning: \n",
      "A value is trying to be set on a copy of a slice from a DataFrame.\n",
      "Try using .loc[row_indexer,col_indexer] = value instead\n",
      "\n",
      "See the caveats in the documentation: http://pandas.pydata.org/pandas-docs/stable/indexing.html#indexing-view-versus-copy\n",
      "/usr/lib/python3/dist-packages/ipykernel_launcher.py:88: SettingWithCopyWarning: \n",
      "A value is trying to be set on a copy of a slice from a DataFrame.\n",
      "Try using .loc[row_indexer,col_indexer] = value instead\n",
      "\n",
      "See the caveats in the documentation: http://pandas.pydata.org/pandas-docs/stable/indexing.html#indexing-view-versus-copy\n"
     ]
    },
    {
     "data": {
      "image/png": "[encoded data removed]",
      "text/plain": [
       "<matplotlib.figure.Figure at 0x7f25c4aadcf8>"
      ]
     },
     "metadata": {},
     "output_type": "display_data"
    }
   ],
   "source": [
    "def show_wcss(KMeans, low=2, high=10):\n",
    "\n",
    "    k_list = list(range(2,10))\n",
    "    wcss_list = []\n",
    "\n",
    "    for k in k_list:\n",
    "        data = df[cols]\n",
    "        wcss = KMeans(k).fit(data).inertia_\n",
    "        wcss_list.append(wcss)\n",
    "\n",
    "    p = pd.DataFrame(wcss_list, columns=[\"WCSS\"], index=k_list).plot()\n",
    "    \n",
    "    return None\n",
    "\n",
    "\n",
    "show_wcss(KMeansFromScratch)"
   ]
  },
  {
   "cell_type": "markdown",
   "metadata": {},
   "source": [
    "# Compare with KMeans from sklearn"
   ]
  },
  {
   "cell_type": "code",
   "execution_count": 9,
   "metadata": {},
   "outputs": [
    {
     "name": "stderr",
     "output_type": "stream",
     "text": [
      "/usr/lib/python3/dist-packages/ipykernel_launcher.py:3: SettingWithCopyWarning: \n",
      "A value is trying to be set on a copy of a slice from a DataFrame.\n",
      "Try using .loc[row_indexer,col_indexer] = value instead\n",
      "\n",
      "See the caveats in the documentation: http://pandas.pydata.org/pandas-docs/stable/indexing.html#indexing-view-versus-copy\n",
      "  This is separate from the ipykernel package so we can avoid doing imports until\n"
     ]
    },
    {
     "data": {
      "image/png": "[encoded data removed]",
      "text/plain": [
       "<matplotlib.figure.Figure at 0x7f25c4aa3cf8>"
      ]
     },
     "metadata": {},
     "output_type": "display_data"
    }
   ],
   "source": [
    "kmeans = KMeans(n_clusters=k)\n",
    "kmeans.fit(data[cols])\n",
    "data[\"clusters\"] = kmeans.predict(df[cols])\n",
    "centroids = pd.DataFrame(kmeans.cluster_centers_, columns=cols)\n",
    "\n",
    "\n",
    "fig, ax = plt.subplots()\n",
    "\n",
    "p1 = data.plot.scatter(*cols, c=\"clusters\", s=10, colormap='viridis', ax=ax, colorbar=False)\n",
    "p2 = centroids.plot.scatter(*cols, s=100, c=\"Gray\", ax=ax, colorbar=False)"
   ]
  },
  {
   "cell_type": "code",
   "execution_count": 10,
   "metadata": {},
   "outputs": [
    {
     "data": {
      "image/png": "[encoded data removed]",
      "text/plain": [
       "<matplotlib.figure.Figure at 0x7f25f34e20f0>"
      ]
     },
     "metadata": {},
     "output_type": "display_data"
    }
   ],
   "source": [
    "show_wcss(KMeans)"
   ]
  },
  {
   "cell_type": "markdown",
   "metadata": {},
   "source": [
    "# Further reading\n",
    "\n",
    "See [this](https://mubaris.com/2017/10/01/kmeans-clustering-in-python/) for an example in 3D using a random dataset."
   ]
  }
 ],
 "metadata": {
  "kernelspec": {
   "display_name": "Python 3",
   "language": "python",
   "name": "python3"
  },
  "language_info": {
   "codemirror_mode": {
    "name": "ipython",
    "version": 3
   },
   "file_extension": ".py",
   "mimetype": "text/x-python",
   "name": "python",
   "nbconvert_exporter": "python",
   "pygments_lexer": "ipython3",
   "version": "3.6.5"
  }
 },
 "nbformat": 4,
 "nbformat_minor": 2
}
